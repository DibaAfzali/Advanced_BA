{
 "cells": [
  {
   "cell_type": "code",
   "execution_count": 37,
   "metadata": {},
   "outputs": [],
   "source": [
    "import pandas as pd\n",
    "import numpy as np\n",
    "import yfinance as yf\n",
    "import scipy.stats as sps\n",
    "from arch import arch_model\n",
    "import warnings\n",
    "warnings.filterwarnings(\"ignore\")"
   ]
  },
  {
   "cell_type": "code",
   "execution_count": 2,
   "metadata": {},
   "outputs": [
    {
     "name": "stdout",
     "output_type": "stream",
     "text": [
      "[*********************100%***********************]  4 of 4 completed\n"
     ]
    }
   ],
   "source": [
    "# Choose four different stocks from the S&P500 index\n",
    "tickers = ['AAPL', 'MSFT', 'GOOGL', 'AMZN']\n",
    "\n",
    "# Download adjusted closing prices\n",
    "start_date = '2021-01-01'\n",
    "end_date = '2022-12-31'\n",
    "prices = yf.download(tickers, start=start_date, end=end_date)['Adj Close']\n",
    "\n",
    "# Calculate daily returns\n",
    "returns = prices.pct_change().dropna()"
   ]
  },
  {
   "cell_type": "code",
   "execution_count": 6,
   "metadata": {},
   "outputs": [],
   "source": [
    "investment = 1000000# Suppose we invest 1.000.000$ on day n"
   ]
  },
  {
   "cell_type": "markdown",
   "metadata": {},
   "source": [
    "## Non-parametric approach with equal weights put on past observations"
   ]
  },
  {
   "cell_type": "code",
   "execution_count": 15,
   "metadata": {},
   "outputs": [
    {
     "name": "stdout",
     "output_type": "stream",
     "text": [
      "AAPL - 95% VaR: -3.32% (-33190.06 USD), 95% ES: -4.08% (-40847.48 USD)\n",
      "AAPL - 99% VaR: -4.69% (-46854.36 USD), 99% ES: -5.31% (-53104.92 USD)\n",
      "----------------------------------------------------------------------\n",
      "MSFT - 95% VaR: -2.94% (-29355.24 USD), 95% ES: -4.03% (-40308.05 USD)\n",
      "MSFT - 99% VaR: -4.36% (-43554.81 USD), 99% ES: -5.28% (-52772.61 USD)\n",
      "----------------------------------------------------------------------\n",
      "GOOGL - 95% VaR: -3.30% (-33030.20 USD), 95% ES: -4.40% (-43965.24 USD)\n",
      "GOOGL - 99% VaR: -4.71% (-47075.52 USD), 99% ES: -5.96% (-59564.12 USD)\n",
      "----------------------------------------------------------------------\n",
      "AMZN - 95% VaR: -3.70% (-37026.43 USD), 95% ES: -5.76% (-57561.26 USD)\n",
      "AMZN - 99% VaR: -7.06% (-70575.28 USD), 99% ES: -8.53% (-85336.42 USD)\n",
      "----------------------------------------------------------------------\n"
     ]
    }
   ],
   "source": [
    "# Calculate VaR and ES at 95% and 99% levels\n",
    "def calculate_var_es(returns, level):\n",
    "    var = np.percentile(returns, 100 - level, interpolation='lower')\n",
    "    es = np.mean(returns[returns <= var])\n",
    "    return var, es\n",
    "\n",
    "# Calculate 1-day VaR and ES for each stock\n",
    "for ticker in tickers:\n",
    "    var_95, es_95 = calculate_var_es(returns[ticker], 95)\n",
    "    var_99, es_99 = calculate_var_es(returns[ticker], 99)\n",
    "    \n",
    "    # Calculate actual change for the $1 million investment\n",
    "    var_95_actual = var_95 * investment\n",
    "    es_95_actual = es_95 * investment\n",
    "    var_99_actual = var_99 * investment\n",
    "    es_99_actual = es_99 * investment\n",
    "    \n",
    "    print(f\"{ticker} - 95% VaR: {var_95*100:.2f}% ({var_95_actual:.2f} USD), 95% ES: {es_95*100:.2f}% ({es_95_actual:.2f} USD)\")\n",
    "    print(f\"{ticker} - 99% VaR: {var_99*100:.2f}% ({var_99_actual:.2f} USD), 99% ES: {es_99*100:.2f}% ({es_99_actual:.2f} USD)\")\n",
    "    print('----------------------------------------------------------------------')"
   ]
  },
  {
   "cell_type": "markdown",
   "metadata": {},
   "source": [
    "## Non-parametric approach with probability weighting"
   ]
  },
  {
   "cell_type": "code",
   "execution_count": 21,
   "metadata": {},
   "outputs": [],
   "source": [
    "def probabilityWeighting(n, l=0.995):\n",
    "    return np.array([((1 - l)*l**(n-i))/(1 - l**n) for i in range(1, n+1)])"
   ]
  },
  {
   "cell_type": "code",
   "execution_count": 39,
   "metadata": {},
   "outputs": [
    {
     "name": "stdout",
     "output_type": "stream",
     "text": [
      "AAPL - 95% Prob Weighted VaR: -0.18% (-1804.03 USD), 95% Prob Weighted ES: -0.12% (-1162.23 USD)\n",
      "AAPL - 99% Prob Weighted VaR: -0.05% (-502.04 USD), 99% Prob Weighted ES: -0.05% (-520.71 USD)\n",
      "----------------------------------------------------------------------\n",
      "MSFT - 95% Prob Weighted VaR: -0.15% (-1484.11 USD), 95% Prob Weighted ES: -0.08% (-780.62 USD)\n",
      "MSFT - 99% Prob Weighted VaR: -0.01% (-99.97 USD), 99% Prob Weighted ES: -0.04% (-381.27 USD)\n",
      "----------------------------------------------------------------------\n",
      "GOOGL - 95% Prob Weighted VaR: -0.23% (-2318.51 USD), 95% Prob Weighted ES: -0.14% (-1422.08 USD)\n",
      "GOOGL - 99% Prob Weighted VaR: -0.09% (-908.81 USD), 99% Prob Weighted ES: -0.10% (-1032.57 USD)\n",
      "----------------------------------------------------------------------\n",
      "AMZN - 95% Prob Weighted VaR: -0.18% (-1849.40 USD), 95% Prob Weighted ES: -0.08% (-824.02 USD)\n",
      "AMZN - 99% Prob Weighted VaR: 0.01% (148.51 USD), 99% Prob Weighted ES: -0.02% (-166.48 USD)\n",
      "----------------------------------------------------------------------\n"
     ]
    }
   ],
   "source": [
    "\n",
    "# Calculate VaR and ES with probability weighting\n",
    "def calculate_prob_weighted_var_es(returns, level, n):\n",
    "    weights = probabilityWeighting(n)\n",
    "    sorted_returns = np.sort(returns)[-n:]\n",
    "    accumulated_weights = np.cumsum(weights)\n",
    "    \n",
    "    idx = np.where(accumulated_weights > level)[0][0]\n",
    "    var = -sorted_returns[idx]\n",
    "    es = -((sorted_returns[:idx] * weights[:idx]).sum() + (level - accumulated_weights[idx-1]) * weights[idx]) / level\n",
    "    \n",
    "    return var, es\n",
    "\n",
    "# Calculate 1-day VaR and ES for each stock\n",
    "n = 252\n",
    "for ticker in tickers:\n",
    "    var_95, es_95 = calculate_prob_weighted_var_es(returns[ticker], 0.05, n)\n",
    "    var_99, es_99 = calculate_prob_weighted_var_es(returns[ticker], 0.01, n)\n",
    "    \n",
    "    # Calculate actual change for the $1 million investment\n",
    "    var_95_actual = var_95 * investment\n",
    "    es_95_actual = es_95 * investment\n",
    "    var_99_actual = var_99 * investment\n",
    "    es_99_actual = es_99 * investment\n",
    "    \n",
    "    print(f\"{ticker} - 95% Prob Weighted VaR: {var_95*100:.2f}% ({var_95_actual:.2f} USD), 95% Prob Weighted ES: {es_95*100:.2f}% ({es_95_actual:.2f} USD)\")\n",
    "    print(f\"{ticker} - 99% Prob Weighted VaR: {var_99*100:.2f}% ({var_99_actual:.2f} USD), 99% Prob Weighted ES: {es_99*100:.2f}% ({es_99_actual:.2f} USD)\")\n",
    "    print('----------------------------------------------------------------------')"
   ]
  },
  {
   "cell_type": "markdown",
   "metadata": {},
   "source": [
    "## Parametric model using the normal distribution"
   ]
  },
  {
   "cell_type": "code",
   "execution_count": 40,
   "metadata": {},
   "outputs": [
    {
     "name": "stdout",
     "output_type": "stream",
     "text": [
      "AAPL - 95% Normal VaR: 3.68% (36841.11 USD), 95% Normal ES: 4.62% (46200.24 USD)\n",
      "AAPL - 99% Normal VaR: 5.21% (52105.09 USD), 99% Normal ES: 5.97% (59694.95 USD)\n",
      "----------------------------------------------------------------------\n",
      "MSFT - 95% Normal VaR: 3.65% (36453.67 USD), 95% Normal ES: 4.57% (45714.38 USD)\n",
      "MSFT - 99% Normal VaR: 5.16% (51557.13 USD), 99% Normal ES: 5.91% (59067.17 USD)\n",
      "----------------------------------------------------------------------\n",
      "GOOGL - 95% Normal VaR: 3.99% (39896.60 USD), 95% Normal ES: 5.00% (50031.95 USD)\n",
      "GOOGL - 99% Normal VaR: 5.64% (56426.52 USD), 99% Normal ES: 6.46% (64645.87 USD)\n",
      "----------------------------------------------------------------------\n",
      "AMZN - 95% Normal VaR: 5.17% (51690.58 USD), 95% Normal ES: 6.48% (64822.07 USD)\n",
      "AMZN - 99% Normal VaR: 7.31% (73106.97 USD), 99% Normal ES: 8.38% (83756.06 USD)\n",
      "----------------------------------------------------------------------\n"
     ]
    }
   ],
   "source": [
    "def parametric_normal_var_es(returns, alpha, days=252):\n",
    "    mean_return = 0  # Assumption - we could estimate this as well\n",
    "    volatility = np.std(returns.values[-days:])  # standard deviation of daily returns\n",
    "    var = -volatility * sps.norm.ppf(alpha, loc=mean_return, scale=1)\n",
    "    es = volatility * (sps.norm.pdf(sps.norm.ppf(alpha, loc=mean_return, scale=1))) / alpha\n",
    "    return var, es\n",
    "\n",
    "for ticker in tickers:\n",
    "    var_95, es_95 = parametric_normal_var_es(returns[ticker], 0.05)\n",
    "    var_99, es_99 = parametric_normal_var_es(returns[ticker], 0.01)\n",
    "    \n",
    "    # Calculate actual change for the $1 million investment\n",
    "    var_95_actual = var_95 * investment\n",
    "    es_95_actual = es_95 * investment\n",
    "    var_99_actual = var_99 * investment\n",
    "    es_99_actual = es_99 * investment\n",
    "    \n",
    "    print(f\"{ticker} - 95% Normal VaR: {var_95*100:.2f}% ({var_95_actual:.2f} USD), 95% Normal ES: {es_95*100:.2f}% ({es_95_actual:.2f} USD)\")\n",
    "    print(f\"{ticker} - 99% Normal VaR: {var_99*100:.2f}% ({var_99_actual:.2f} USD), 99% Normal ES: {es_99*100:.2f}% ({es_99_actual:.2f} USD)\")\n",
    "    print('----------------------------------------------------------------------')"
   ]
  },
  {
   "cell_type": "markdown",
   "metadata": {},
   "source": [
    "## Parametric model using t distribution"
   ]
  },
  {
   "cell_type": "code",
   "execution_count": 41,
   "metadata": {},
   "outputs": [
    {
     "name": "stdout",
     "output_type": "stream",
     "text": [
      "AAPL - 95% t-distribution VaR: 0.04% (375.42 USD), 95% t-distribution ES: 0.05% (493.90 USD)\n",
      "AAPL - 99% t-distribution VaR: 0.06% (564.69 USD), 99% t-distribution ES: 0.07% (683.21 USD)\n",
      "----------------------------------------------------------------------\n",
      "MSFT - 95% t-distribution VaR: 0.04% (371.93 USD), 95% t-distribution ES: 0.05% (489.76 USD)\n",
      "MSFT - 99% t-distribution VaR: 0.06% (560.08 USD), 99% t-distribution ES: 0.07% (678.33 USD)\n",
      "----------------------------------------------------------------------\n",
      "GOOGL - 95% t-distribution VaR: 0.04% (413.46 USD), 95% t-distribution ES: 0.05% (546.76 USD)\n",
      "GOOGL - 99% t-distribution VaR: 0.06% (625.53 USD), 99% t-distribution ES: 0.08% (763.11 USD)\n",
      "----------------------------------------------------------------------\n",
      "AMZN - 95% t-distribution VaR: 0.05% (519.28 USD), 95% t-distribution ES: 0.07% (720.72 USD)\n",
      "AMZN - 99% t-distribution VaR: 0.08% (832.61 USD), 99% t-distribution ES: 0.11% (1072.33 USD)\n",
      "----------------------------------------------------------------------\n"
     ]
    }
   ],
   "source": [
    "\n",
    "def parametric_t_var_es(returns, alpha, days=252):\n",
    "    MLE = sps.t.fit(returns.values[-days:])\n",
    "    var = -sps.t.ppf(alpha, MLE[0], loc=MLE[1], scale=MLE[2]) / 100\n",
    "    factor1 = (sps.t.pdf(sps.t.ppf(alpha, MLE[0]), MLE[0])) / alpha\n",
    "    factor2 = (MLE[0] + (sps.t.ppf(alpha, MLE[0]) ** 2)) / (MLE[0] - 1)\n",
    "    es = (-1 * MLE[1] + MLE[2] * factor1 * factor2) / 100\n",
    "    return var, es\n",
    "\n",
    "# Calculate 1-day VaR and ES for each stock using the parametric t-distribution model\n",
    "for ticker in tickers:\n",
    "    var_95_t, es_95_t = parametric_t_var_es(returns[ticker], 0.05)\n",
    "    var_99_t, es_99_t = parametric_t_var_es(returns[ticker], 0.01)\n",
    "    \n",
    "    # Calculate actual change for the $1 million investment\n",
    "    var_95_t_actual = var_95_t * investment\n",
    "    es_95_t_actual = es_95_t * investment\n",
    "    var_99_t_actual = var_99_t * investment\n",
    "    es_99_t_actual = es_99_t * investment\n",
    "    \n",
    "    print(f\"{ticker} - 95% t-distribution VaR: {var_95_t*100:.2f}% ({var_95_t_actual:.2f} USD), 95% t-distribution ES: {es_95_t*100:.2f}% ({es_95_t_actual:.2f} USD)\")\n",
    "    print(f\"{ticker} - 99% t-distribution VaR: {var_99_t*100:.2f}% ({var_99_t_actual:.2f} USD), 99% t-distribution ES: {es_99_t*100:.2f}% ({es_99_t_actual:.2f} USD)\")\n",
    "    print('----------------------------------------------------------------------')"
   ]
  },
  {
   "cell_type": "markdown",
   "metadata": {},
   "source": [
    "## Univariate GARCH model applied to portfolio returns"
   ]
  },
  {
   "cell_type": "code",
   "execution_count": 42,
   "metadata": {
    "scrolled": false
   },
   "outputs": [
    {
     "name": "stdout",
     "output_type": "stream",
     "text": [
      "Iteration:      1,   Func. Count:      5,   Neg. LLF: -1761.275968368361\n",
      "Inequality constraints incompatible    (Exit mode 4)\n",
      "            Current function value: -1761.27596811001\n",
      "            Iterations: 1\n",
      "            Function evaluations: 5\n",
      "            Gradient evaluations: 1\n",
      "Iteration:      1,   Func. Count:      5,   Neg. LLF: -1761.275968368361\n",
      "Inequality constraints incompatible    (Exit mode 4)\n",
      "            Current function value: -1761.27596811001\n",
      "            Iterations: 1\n",
      "            Function evaluations: 5\n",
      "            Gradient evaluations: 1\n",
      "AAPL - 95% GARCH VaR: 0.04% (366.06 USD), 95% GARCH ES: 0.05% (459.05 USD)\n",
      "AAPL - 99% GARCH VaR: 0.05% (517.73 USD), 99% GARCH ES: 0.06% (593.14 USD)\n",
      "----------------------------------------------------------------------\n",
      "Iteration:      1,   Func. Count:      5,   Neg. LLF: -1763.221887534673\n",
      "Inequality constraints incompatible    (Exit mode 4)\n",
      "            Current function value: -1763.2218872867547\n",
      "            Iterations: 1\n",
      "            Function evaluations: 5\n",
      "            Gradient evaluations: 1\n",
      "Iteration:      1,   Func. Count:      5,   Neg. LLF: -1763.221887534673\n",
      "Inequality constraints incompatible    (Exit mode 4)\n",
      "            Current function value: -1763.2218872867547\n",
      "            Iterations: 1\n",
      "            Function evaluations: 5\n",
      "            Gradient evaluations: 1\n",
      "MSFT - 95% GARCH VaR: 0.04% (358.48 USD), 95% GARCH ES: 0.04% (449.55 USD)\n",
      "MSFT - 99% GARCH VaR: 0.05% (507.00 USD), 99% GARCH ES: 0.06% (580.86 USD)\n",
      "----------------------------------------------------------------------\n",
      "Iteration:      1,   Func. Count:      5,   Neg. LLF: -1740.5431261729937\n",
      "Inequality constraints incompatible    (Exit mode 4)\n",
      "            Current function value: -1740.5431259034094\n",
      "            Iterations: 1\n",
      "            Function evaluations: 5\n",
      "            Gradient evaluations: 1\n",
      "Iteration:      1,   Func. Count:      5,   Neg. LLF: -1740.5431261729937\n",
      "Inequality constraints incompatible    (Exit mode 4)\n",
      "            Current function value: -1740.5431259034094\n",
      "            Iterations: 1\n",
      "            Function evaluations: 5\n",
      "            Gradient evaluations: 1\n",
      "GOOGL - 95% GARCH VaR: 0.04% (392.51 USD), 95% GARCH ES: 0.05% (492.22 USD)\n",
      "GOOGL - 99% GARCH VaR: 0.06% (555.14 USD), 99% GARCH ES: 0.06% (636.00 USD)\n",
      "----------------------------------------------------------------------\n",
      "Iteration:      1,   Func. Count:      5,   Neg. LLF: -1679.8589140250847\n",
      "Inequality constraints incompatible    (Exit mode 4)\n",
      "            Current function value: -1679.858914048316\n",
      "            Iterations: 1\n",
      "            Function evaluations: 5\n",
      "            Gradient evaluations: 1\n",
      "Iteration:      1,   Func. Count:      5,   Neg. LLF: -1679.8589140250847\n",
      "Inequality constraints incompatible    (Exit mode 4)\n",
      "            Current function value: -1679.858914048316\n",
      "            Iterations: 1\n",
      "            Function evaluations: 5\n",
      "            Gradient evaluations: 1\n",
      "AMZN - 95% GARCH VaR: 0.05% (456.58 USD), 95% GARCH ES: 0.06% (572.56 USD)\n",
      "AMZN - 99% GARCH VaR: 0.06% (645.74 USD), 99% GARCH ES: 0.07% (739.80 USD)\n",
      "----------------------------------------------------------------------\n"
     ]
    },
    {
     "name": "stderr",
     "output_type": "stream",
     "text": [
      "/home/oscar/anaconda3/lib/python3.7/site-packages/arch/univariate/base.py:755: ConvergenceWarning: The optimizer returned code 4. The message is:\n",
      "Inequality constraints incompatible\n",
      "See scipy.optimize.fmin_slsqp for code meaning.\n",
      "\n",
      "  ConvergenceWarning,\n",
      "/home/oscar/anaconda3/lib/python3.7/site-packages/arch/univariate/base.py:755: ConvergenceWarning: The optimizer returned code 4. The message is:\n",
      "Inequality constraints incompatible\n",
      "See scipy.optimize.fmin_slsqp for code meaning.\n",
      "\n",
      "  ConvergenceWarning,\n",
      "/home/oscar/anaconda3/lib/python3.7/site-packages/arch/univariate/base.py:755: ConvergenceWarning: The optimizer returned code 4. The message is:\n",
      "Inequality constraints incompatible\n",
      "See scipy.optimize.fmin_slsqp for code meaning.\n",
      "\n",
      "  ConvergenceWarning,\n",
      "/home/oscar/anaconda3/lib/python3.7/site-packages/arch/univariate/base.py:755: ConvergenceWarning: The optimizer returned code 4. The message is:\n",
      "Inequality constraints incompatible\n",
      "See scipy.optimize.fmin_slsqp for code meaning.\n",
      "\n",
      "  ConvergenceWarning,\n",
      "/home/oscar/anaconda3/lib/python3.7/site-packages/arch/univariate/base.py:755: ConvergenceWarning: The optimizer returned code 4. The message is:\n",
      "Inequality constraints incompatible\n",
      "See scipy.optimize.fmin_slsqp for code meaning.\n",
      "\n",
      "  ConvergenceWarning,\n",
      "/home/oscar/anaconda3/lib/python3.7/site-packages/arch/univariate/base.py:755: ConvergenceWarning: The optimizer returned code 4. The message is:\n",
      "Inequality constraints incompatible\n",
      "See scipy.optimize.fmin_slsqp for code meaning.\n",
      "\n",
      "  ConvergenceWarning,\n",
      "/home/oscar/anaconda3/lib/python3.7/site-packages/arch/univariate/base.py:755: ConvergenceWarning: The optimizer returned code 4. The message is:\n",
      "Inequality constraints incompatible\n",
      "See scipy.optimize.fmin_slsqp for code meaning.\n",
      "\n",
      "  ConvergenceWarning,\n",
      "/home/oscar/anaconda3/lib/python3.7/site-packages/arch/univariate/base.py:755: ConvergenceWarning: The optimizer returned code 4. The message is:\n",
      "Inequality constraints incompatible\n",
      "See scipy.optimize.fmin_slsqp for code meaning.\n",
      "\n",
      "  ConvergenceWarning,\n"
     ]
    }
   ],
   "source": [
    "\n",
    "def garch_var_es(returns, alpha, days=252):\n",
    "    garch = arch_model(returns.values[-days:] / 100, vol='garch', p=1, o=0, q=1)\n",
    "    garch_fitted = garch.fit()\n",
    "    garch_forecast = garch_fitted.forecast(horizon=1, reindex=False)\n",
    "    variance = garch_forecast.variance.values[0][0]\n",
    "\n",
    "    mean_return = 0\n",
    "    volatility = np.sqrt(variance)\n",
    "    var = -volatility * sps.norm.ppf(alpha, loc=mean_return, scale=1)\n",
    "    es = volatility * (sps.norm.pdf(sps.norm.ppf(alpha, loc=mean_return, scale=1))) / alpha\n",
    "    return var, es\n",
    "\n",
    "# Calculate 1-day VaR and ES for each stock using the GARCH model\n",
    "for ticker in tickers:\n",
    "    var_95_garch, es_95_garch = garch_var_es(returns[ticker], 0.05)\n",
    "    var_99_garch, es_99_garch = garch_var_es(returns[ticker], 0.01)\n",
    "    \n",
    "    # Calculate actual change for the $1 million investment\n",
    "    var_95_garch_actual = var_95_garch * investment\n",
    "    es_95_garch_actual = es_95_garch * investment\n",
    "    var_99_garch_actual = var_99_garch * investment\n",
    "    es_99_garch_actual = es_99_garch * investment\n",
    "    \n",
    "    print(f\"{ticker} - 95% GARCH VaR: {var_95_garch*100:.2f}% ({var_95_garch_actual:.2f} USD), 95% GARCH ES: {es_95_garch*100:.2f}% ({es_95_garch_actual:.2f} USD)\")\n",
    "    print(f\"{ticker} - 99% GARCH VaR: {var_99_garch*100:.2f}% ({var_99_garch_actual:.2f} USD), 99% GARCH ES: {es_99_garch*100:.2f}% ({es_99_garch_actual:.2f} USD)\")\n",
    "    print('----------------------------------------------------------------------')"
   ]
  },
  {
   "cell_type": "markdown",
   "metadata": {},
   "source": [
    "### Backtesting "
   ]
  },
  {
   "cell_type": "code",
   "execution_count": null,
   "metadata": {},
   "outputs": [],
   "source": []
  }
 ],
 "metadata": {
  "kernelspec": {
   "display_name": "Python 3",
   "language": "python",
   "name": "python3"
  },
  "language_info": {
   "codemirror_mode": {
    "name": "ipython",
    "version": 3
   },
   "file_extension": ".py",
   "mimetype": "text/x-python",
   "name": "python",
   "nbconvert_exporter": "python",
   "pygments_lexer": "ipython3",
   "version": "3.7.4"
  }
 },
 "nbformat": 4,
 "nbformat_minor": 2
}
